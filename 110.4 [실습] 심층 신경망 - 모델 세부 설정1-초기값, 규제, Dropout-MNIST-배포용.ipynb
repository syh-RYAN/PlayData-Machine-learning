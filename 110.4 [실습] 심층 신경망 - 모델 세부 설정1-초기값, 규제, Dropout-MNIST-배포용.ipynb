{
 "cells": [
  {
   "cell_type": "markdown",
   "metadata": {},
   "source": [
    "# 심층 신경망 - 모델 세부 설정-초기값, 규제, Dropout-MNIST"
   ]
  },
  {
   "cell_type": "code",
   "execution_count": null,
   "metadata": {
    "colab": {
     "base_uri": "https://localhost:8080/"
    },
    "id": "dXaEMD0jt0d3",
    "outputId": "f4f66ed2-e3eb-4c95-bbb4-a105065c5d99"
   },
   "outputs": [],
   "source": [
    "\n",
    "# 데이터셋을 로드\n",
    "\n",
    "\n",
    "# 로드된 데이터셋 확인\n",
    "print('train set: ', x_train.shape, y_train.shape)\n",
    "print('test  set: ', x_test.shape, y_test.shape)\n",
    "\n",
    "# 데이터 정규화\n"
   ]
  },
  {
   "cell_type": "markdown",
   "metadata": {
    "id": "YImkI8kKzypT"
   },
   "source": [
    "## 초기값 설정"
   ]
  },
  {
   "cell_type": "code",
   "execution_count": null,
   "metadata": {
    "colab": {
     "base_uri": "https://localhost:8080/"
    },
    "id": "16IWTVpMvAlR",
    "outputId": "214ae15d-2e23-490c-9a1b-d71f35ffe830"
   },
   "outputs": [],
   "source": []
  },
  {
   "cell_type": "code",
   "execution_count": null,
   "metadata": {
    "colab": {
     "base_uri": "https://localhost:8080/"
    },
    "id": "kSyO19Pzuh2C",
    "outputId": "92d2df25-f33a-46ed-fcb5-d7c86e26e812"
   },
   "outputs": [],
   "source": [
    "# he normal 초기화\n"
   ]
  },
  {
   "cell_type": "code",
   "execution_count": null,
   "metadata": {
    "colab": {
     "base_uri": "https://localhost:8080/"
    },
    "id": "NlEK1gXsxHly",
    "outputId": "738459a8-db17-482c-dec3-3b6da377f983"
   },
   "outputs": [],
   "source": [
    "# 클래스 인스턴스 초기화\n"
   ]
  },
  {
   "cell_type": "code",
   "execution_count": null,
   "metadata": {},
   "outputs": [],
   "source": [
    "print(\"https://www.tensorflow.org/api_docs/python/tf/keras/initializers\")"
   ]
  },
  {
   "cell_type": "markdown",
   "metadata": {
    "id": "RLvhyVBuzwkp"
   },
   "source": [
    "## 규제"
   ]
  },
  {
   "cell_type": "code",
   "execution_count": null,
   "metadata": {
    "colab": {
     "base_uri": "https://localhost:8080/"
    },
    "id": "9bX0zFe40Cdf",
    "outputId": "02d751d4-7cb2-42ac-f6cf-82d7f3ff4985"
   },
   "outputs": [],
   "source": [
    "# 기본 값\n"
   ]
  },
  {
   "cell_type": "code",
   "execution_count": null,
   "metadata": {
    "colab": {
     "base_uri": "https://localhost:8080/"
    },
    "id": "nBMmB6CJzvnk",
    "outputId": "aab46058-f149-478e-8f09-ec2bdacb045e"
   },
   "outputs": [],
   "source": [
    "# l1 규제 적용\n",
    "\n",
    "# 클래스 인스턴스 적용, alpha 값 변경\n"
   ]
  },
  {
   "cell_type": "markdown",
   "metadata": {
    "id": "yGLMFgK220bh"
   },
   "source": [
    "## 드랍아웃"
   ]
  },
  {
   "cell_type": "code",
   "execution_count": null,
   "metadata": {
    "colab": {
     "base_uri": "https://localhost:8080/"
    },
    "id": "_2nE5yoI2rIa",
    "outputId": "7472e8bf-26b1-4427-8ee8-3ea80fda6aa0"
   },
   "outputs": [],
   "source": [
    "# Dropout 25% 비율 적용 (25%의 노드가 삭제)\n"
   ]
  },
  {
   "cell_type": "code",
   "execution_count": null,
   "metadata": {},
   "outputs": [],
   "source": [
    "# DropOut 예제\n"
   ]
  },
  {
   "cell_type": "markdown",
   "metadata": {
    "id": "TSPUXVR2J11X"
   },
   "source": [
    "##  배치 정규화"
   ]
  },
  {
   "cell_type": "code",
   "execution_count": null,
   "metadata": {
    "colab": {
     "base_uri": "https://localhost:8080/"
    },
    "id": "wn4CWL_K3tkc",
    "outputId": "6b15658c-2360-41c7-d132-6b04888c84d1"
   },
   "outputs": [],
   "source": [
    "# Model A: Dense + ReLU\n"
   ]
  },
  {
   "cell_type": "code",
   "execution_count": null,
   "metadata": {
    "colab": {
     "base_uri": "https://localhost:8080/"
    },
    "id": "Sjh59kkOuDhA",
    "outputId": "50e60c02-b083-4d22-9679-5e83f68e4776"
   },
   "outputs": [],
   "source": [
    "# Model B: Dense + BatchNorm + ReLU\n"
   ]
  },
  {
   "cell_type": "markdown",
   "metadata": {
    "id": "rkbav_uwJ6Tq"
   },
   "source": [
    "## 활성화 함수: relu 이외에 Keras가 지원하는 다른 활성화 함수 사용 가능"
   ]
  },
  {
   "cell_type": "code",
   "execution_count": null,
   "metadata": {
    "colab": {
     "base_uri": "https://localhost:8080/"
    },
    "id": "ioLNEQNg3T8u",
    "outputId": "07765969-d80b-409d-ba9b-f36fe8910494"
   },
   "outputs": [],
   "source": [
    "# LeakyReLU 기본 설정\n",
    "\n",
    "\n",
    "# LeakyReLU, alpha=0.2 로 변경\n"
   ]
  },
  {
   "cell_type": "code",
   "execution_count": null,
   "metadata": {
    "colab": {
     "base_uri": "https://localhost:8080/"
    },
    "id": "CHsonIffUsL2",
    "outputId": "3a005223-eb4d-4fe3-8d64-220b73f0cdbc"
   },
   "outputs": [],
   "source": [
    "# Model C: Dense + BatchNorm + LeakyReLU(0.2)\n",
    "\n",
    "# 모델 요약\n"
   ]
  },
  {
   "cell_type": "code",
   "execution_count": null,
   "metadata": {
    "id": "QO4hIMAn0JiS"
   },
   "outputs": [],
   "source": [
    "\n",
    "# Model A: Dense + ReLU\n",
    "\n",
    "# Model B: Dense + BatchNorm + ReLU\n",
    "\n",
    "# Model C: Dense + BatchNorm + LeakyReLU(0.2)\n"
   ]
  },
  {
   "cell_type": "code",
   "execution_count": null,
   "metadata": {
    "colab": {
     "base_uri": "https://localhost:8080/",
     "height": 572
    },
    "id": "_mkn51mV0koD",
    "outputId": "9661cdd5-2d7c-4030-ec80-2bf40a6504ed"
   },
   "outputs": [],
   "source": []
  }
 ],
 "metadata": {
  "colab": {
   "collapsed_sections": [],
   "name": "3.4_model_configuration.ipynb",
   "provenance": []
  },
  "kernelspec": {
   "display_name": "Python 3",
   "language": "python",
   "name": "python3"
  },
  "language_info": {
   "codemirror_mode": {
    "name": "ipython",
    "version": 3
   },
   "file_extension": ".py",
   "mimetype": "text/x-python",
   "name": "python",
   "nbconvert_exporter": "python",
   "pygments_lexer": "ipython3",
   "version": "3.8.8"
  }
 },
 "nbformat": 4,
 "nbformat_minor": 1
}
