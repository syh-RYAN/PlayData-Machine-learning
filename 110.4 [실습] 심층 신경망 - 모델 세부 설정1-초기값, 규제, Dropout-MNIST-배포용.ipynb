{
 "cells": [
  {
   "cell_type": "markdown",
   "metadata": {},
   "source": [
    "# 심층 신경망 - 모델 세부 설정-초기값, 규제, Dropout-MNIST"
   ]
  },
  {
   "cell_type": "code",
   "execution_count": 6,
   "metadata": {
    "colab": {
     "base_uri": "https://localhost:8080/"
    },
    "id": "dXaEMD0jt0d3",
    "outputId": "f4f66ed2-e3eb-4c95-bbb4-a105065c5d99"
   },
   "outputs": [
    {
     "name": "stdout",
     "output_type": "stream",
     "text": [
      "train set:  (60000, 28, 28) (60000,)\n",
      "test  set:  (10000, 28, 28) (10000,)\n"
     ]
    }
   ],
   "source": [
    "import tensorflow as tf\n",
    "from tensorflow import keras\n",
    "\n",
    "mnist = keras.datasets.mnist\n",
    "\n",
    "# 데이터셋을 로드\n",
    "(x_train,y_train) , (x_test, y_test) = mnist.load_data()\n",
    "\n",
    "# # 로드된 데이터셋 확인\n",
    "print('train set: ', x_train.shape, y_train.shape)\n",
    "print('test  set: ', x_test.shape, y_test.shape)\n",
    "\n",
    "# # 데이터 정규화\n"
   ]
  },
  {
   "cell_type": "markdown",
   "metadata": {
    "id": "YImkI8kKzypT"
   },
   "source": [
    "## 초기값 설정"
   ]
  },
  {
   "cell_type": "code",
   "execution_count": 7,
   "metadata": {
    "colab": {
     "base_uri": "https://localhost:8080/"
    },
    "id": "16IWTVpMvAlR",
    "outputId": "214ae15d-2e23-490c-9a1b-d71f35ffe830"
   },
   "outputs": [
    {
     "data": {
      "text/plain": [
       "{'name': 'dense',\n",
       " 'trainable': True,\n",
       " 'dtype': 'float32',\n",
       " 'units': 256,\n",
       " 'activation': 'relu',\n",
       " 'use_bias': True,\n",
       " 'kernel_initializer': {'class_name': 'GlorotUniform',\n",
       "  'config': {'seed': None}},\n",
       " 'bias_initializer': {'class_name': 'Zeros', 'config': {}},\n",
       " 'kernel_regularizer': None,\n",
       " 'bias_regularizer': None,\n",
       " 'activity_regularizer': None,\n",
       " 'kernel_constraint': None,\n",
       " 'bias_constraint': None}"
      ]
     },
     "execution_count": 7,
     "metadata": {},
     "output_type": "execute_result"
    }
   ],
   "source": [
    "from keras.layers import Dense\n",
    "dense = Dense(256,activation='relu')\n",
    "dense.get_config()"
   ]
  },
  {
   "cell_type": "code",
   "execution_count": 8,
   "metadata": {
    "colab": {
     "base_uri": "https://localhost:8080/"
    },
    "id": "kSyO19Pzuh2C",
    "outputId": "92d2df25-f33a-46ed-fcb5-d7c86e26e812"
   },
   "outputs": [],
   "source": [
    "# he normal 초기화\n",
    "dense = Dense(256,kernel_initializer='he_normal',activation='relu')"
   ]
  },
  {
   "cell_type": "code",
   "execution_count": null,
   "metadata": {
    "colab": {
     "base_uri": "https://localhost:8080/"
    },
    "id": "NlEK1gXsxHly",
    "outputId": "738459a8-db17-482c-dec3-3b6da377f983"
   },
   "outputs": [],
   "source": [
    "# 클래스 인스턴스 초기화\n"
   ]
  },
  {
   "cell_type": "code",
   "execution_count": null,
   "metadata": {},
   "outputs": [],
   "source": [
    "print(\"https://www.tensorflow.org/api_docs/python/tf/keras/initializers\")"
   ]
  },
  {
   "cell_type": "markdown",
   "metadata": {
    "id": "RLvhyVBuzwkp"
   },
   "source": [
    "## 규제"
   ]
  },
  {
   "cell_type": "code",
   "execution_count": 9,
   "metadata": {
    "colab": {
     "base_uri": "https://localhost:8080/"
    },
    "id": "9bX0zFe40Cdf",
    "outputId": "02d751d4-7cb2-42ac-f6cf-82d7f3ff4985"
   },
   "outputs": [
    {
     "data": {
      "text/plain": [
       "{'name': 'dense_1',\n",
       " 'trainable': True,\n",
       " 'dtype': 'float32',\n",
       " 'units': 256,\n",
       " 'activation': 'relu',\n",
       " 'use_bias': True,\n",
       " 'kernel_initializer': {'class_name': 'HeNormal', 'config': {'seed': None}},\n",
       " 'bias_initializer': {'class_name': 'Zeros', 'config': {}},\n",
       " 'kernel_regularizer': None,\n",
       " 'bias_regularizer': None,\n",
       " 'activity_regularizer': None,\n",
       " 'kernel_constraint': None,\n",
       " 'bias_constraint': None}"
      ]
     },
     "execution_count": 9,
     "metadata": {},
     "output_type": "execute_result"
    }
   ],
   "source": [
    "# 기본 값\n",
    "dense.get_config()"
   ]
  },
  {
   "cell_type": "code",
   "execution_count": 13,
   "metadata": {
    "colab": {
     "base_uri": "https://localhost:8080/"
    },
    "id": "nBMmB6CJzvnk",
    "outputId": "aab46058-f149-478e-8f09-ec2bdacb045e"
   },
   "outputs": [
    {
     "name": "stdout",
     "output_type": "stream",
     "text": [
      "{'name': 'dense_6', 'trainable': True, 'dtype': 'float32', 'units': 256, 'activation': 'relu', 'use_bias': True, 'kernel_initializer': {'class_name': 'GlorotUniform', 'config': {'seed': None}}, 'bias_initializer': {'class_name': 'Zeros', 'config': {}}, 'kernel_regularizer': {'class_name': 'L1', 'config': {'l1': 0.009999999776482582}}, 'bias_regularizer': None, 'activity_regularizer': None, 'kernel_constraint': None, 'bias_constraint': None}\n"
     ]
    },
    {
     "data": {
      "text/plain": [
       "{'name': 'dense_7',\n",
       " 'trainable': True,\n",
       " 'dtype': 'float32',\n",
       " 'units': 256,\n",
       " 'activation': 'relu',\n",
       " 'use_bias': True,\n",
       " 'kernel_initializer': {'class_name': 'GlorotUniform',\n",
       "  'config': {'seed': None}},\n",
       " 'bias_initializer': {'class_name': 'Zeros', 'config': {}},\n",
       " 'kernel_regularizer': {'class_name': 'L1',\n",
       "  'config': {'l1': 0.10000000149011612}},\n",
       " 'bias_regularizer': None,\n",
       " 'activity_regularizer': None,\n",
       " 'kernel_constraint': None,\n",
       " 'bias_constraint': None}"
      ]
     },
     "execution_count": 13,
     "metadata": {},
     "output_type": "execute_result"
    }
   ],
   "source": [
    "# l1 규제 적용\n",
    "dense = Dense(256,kernel_regularizer='l1',activation='relu')\n",
    "print(dense.get_config())\n",
    "\n",
    "# 클래스 인스턴스 적용, alpha 값 변경\n",
    "regularizer = tf.keras.regularizers.l1(l1=0.1)\n",
    "dense = Dense(256, kernel_regularizer=regularizer,activation='relu')\n",
    "dense.get_config()"
   ]
  },
  {
   "cell_type": "markdown",
   "metadata": {
    "id": "yGLMFgK220bh"
   },
   "source": [
    "## 드랍아웃"
   ]
  },
  {
   "cell_type": "code",
   "execution_count": 17,
   "metadata": {
    "colab": {
     "base_uri": "https://localhost:8080/"
    },
    "id": "_2nE5yoI2rIa",
    "outputId": "7472e8bf-26b1-4427-8ee8-3ea80fda6aa0"
   },
   "outputs": [],
   "source": [
    "# Dropout 25% 비율 적용 (25%의 노드가 삭제)\n",
    "from keras.layers import Dropout\n",
    "\n",
    "import numpy as np\n"
   ]
  },
  {
   "cell_type": "code",
   "execution_count": 22,
   "metadata": {},
   "outputs": [
    {
     "name": "stdout",
     "output_type": "stream",
     "text": [
      "tf.Tensor(\n",
      "[[ 0.         2.857143   4.285714   5.714286   7.1428576]\n",
      " [ 8.571428   0.        11.428572  12.857143  14.285715 ]], shape=(2, 5), dtype=float32)\n"
     ]
    }
   ],
   "source": [
    "# DropOut 예제\n",
    "data = np.arange(1,11).reshape(2,5).astype(np.float32)\n",
    "layer = keras.layers.Dropout(0.3,input_shape=(2,))\n",
    "output = layer(data,training=True)\n",
    "print(output)"
   ]
  },
  {
   "cell_type": "markdown",
   "metadata": {
    "id": "TSPUXVR2J11X"
   },
   "source": [
    "##  배치 정규화"
   ]
  },
  {
   "cell_type": "code",
   "execution_count": 24,
   "metadata": {
    "colab": {
     "base_uri": "https://localhost:8080/"
    },
    "id": "wn4CWL_K3tkc",
    "outputId": "6b15658c-2360-41c7-d132-6b04888c84d1"
   },
   "outputs": [
    {
     "name": "stdout",
     "output_type": "stream",
     "text": [
      "Model: \"sequential\"\n",
      "_________________________________________________________________\n",
      " Layer (type)                Output Shape              Param #   \n",
      "=================================================================\n",
      " flatten (Flatten)           (None, 784)               0         \n",
      "                                                                 \n",
      " dense_8 (Dense)             (None, 64)                50240     \n",
      "                                                                 \n",
      " dense_9 (Dense)             (None, 32)                2080      \n",
      "                                                                 \n",
      " dense_10 (Dense)            (None, 10)                330       \n",
      "                                                                 \n",
      "=================================================================\n",
      "Total params: 52,650\n",
      "Trainable params: 52,650\n",
      "Non-trainable params: 0\n",
      "_________________________________________________________________\n"
     ]
    }
   ],
   "source": [
    "# Model A: Dense + ReLU\n",
    "\n",
    "model_a = tf.keras.Sequential([\n",
    "    tf.keras.layers.Flatten(input_shape=(28,28)),\n",
    "    tf.keras.layers.Dense(64,activation='relu'),\n",
    "    tf.keras.layers.Dense(32,activation='relu'),\n",
    "    tf.keras.layers.Dense(10,activation='softmax')\n",
    "])\n",
    "\n",
    "model_a.summary()\n"
   ]
  },
  {
   "cell_type": "code",
   "execution_count": 25,
   "metadata": {
    "colab": {
     "base_uri": "https://localhost:8080/"
    },
    "id": "Sjh59kkOuDhA",
    "outputId": "50e60c02-b083-4d22-9679-5e83f68e4776"
   },
   "outputs": [
    {
     "name": "stdout",
     "output_type": "stream",
     "text": [
      "Model: \"sequential_1\"\n",
      "_________________________________________________________________\n",
      " Layer (type)                Output Shape              Param #   \n",
      "=================================================================\n",
      " flatten_1 (Flatten)         (None, 784)               0         \n",
      "                                                                 \n",
      " dense_11 (Dense)            (None, 64)                50240     \n",
      "                                                                 \n",
      " batch_normalization (BatchN  (None, 64)               256       \n",
      " ormalization)                                                   \n",
      "                                                                 \n",
      " activation (Activation)     (None, 64)                0         \n",
      "                                                                 \n",
      " dense_12 (Dense)            (None, 32)                2080      \n",
      "                                                                 \n",
      " batch_normalization_1 (Batc  (None, 32)               128       \n",
      " hNormalization)                                                 \n",
      "                                                                 \n",
      " activation_1 (Activation)   (None, 32)                0         \n",
      "                                                                 \n",
      " dense_13 (Dense)            (None, 10)                330       \n",
      "                                                                 \n",
      "=================================================================\n",
      "Total params: 53,034\n",
      "Trainable params: 52,842\n",
      "Non-trainable params: 192\n",
      "_________________________________________________________________\n"
     ]
    }
   ],
   "source": [
    "# Model B: Dense + BatchNorm + ReLU\n",
    "model_b = tf.keras.Sequential([\n",
    "    tf.keras.layers.Flatten(input_shape=(28,28)),\n",
    "\n",
    "    tf.keras.layers.Dense(64),\n",
    "    tf.keras.layers.BatchNormalization(),\n",
    "    tf.keras.layers.Activation('relu'),\n",
    "\n",
    "\n",
    "    tf.keras.layers.Dense(32),\n",
    "    tf.keras.layers.BatchNormalization(),\n",
    "    tf.keras.layers.Activation('relu'),\n",
    "\n",
    "    tf.keras.layers.Dense(10,activation='softmax')\n",
    "])\n",
    "\n",
    "model_b.summary()"
   ]
  },
  {
   "cell_type": "markdown",
   "metadata": {
    "id": "rkbav_uwJ6Tq"
   },
   "source": [
    "## 활성화 함수: relu 이외에 Keras가 지원하는 다른 활성화 함수 사용 가능"
   ]
  },
  {
   "cell_type": "code",
   "execution_count": null,
   "metadata": {
    "colab": {
     "base_uri": "https://localhost:8080/"
    },
    "id": "ioLNEQNg3T8u",
    "outputId": "07765969-d80b-409d-ba9b-f36fe8910494"
   },
   "outputs": [],
   "source": [
    "# LeakyReLU 기본 설정\n",
    "\n",
    "\n",
    "# LeakyReLU, alpha=0.2 로 변경\n"
   ]
  },
  {
   "cell_type": "code",
   "execution_count": null,
   "metadata": {
    "colab": {
     "base_uri": "https://localhost:8080/"
    },
    "id": "CHsonIffUsL2",
    "outputId": "3a005223-eb4d-4fe3-8d64-220b73f0cdbc"
   },
   "outputs": [],
   "source": [
    "# Model C: Dense + BatchNorm + LeakyReLU(0.2)\n",
    "\n",
    "# 모델 요약\n"
   ]
  },
  {
   "cell_type": "code",
   "execution_count": null,
   "metadata": {
    "id": "QO4hIMAn0JiS"
   },
   "outputs": [],
   "source": [
    "\n",
    "# Model A: Dense + ReLU\n",
    "\n",
    "# Model B: Dense + BatchNorm + ReLU\n",
    "\n",
    "# Model C: Dense + BatchNorm + LeakyReLU(0.2)\n"
   ]
  },
  {
   "cell_type": "code",
   "execution_count": 27,
   "metadata": {
    "colab": {
     "base_uri": "https://localhost:8080/",
     "height": 572
    },
    "id": "_mkn51mV0koD",
    "outputId": "9661cdd5-2d7c-4030-ec80-2bf40a6504ed"
   },
   "outputs": [
    {
     "name": "stdout",
     "output_type": "stream",
     "text": [
      "Epoch 1/10\n",
      "1875/1875 [==============================] - 4s 2ms/step - loss: 1.4906 - accuracy: 0.6761 - val_loss: 0.6919 - val_accuracy: 0.8118\n",
      "Epoch 2/10\n",
      "1875/1875 [==============================] - 3s 2ms/step - loss: 0.5442 - accuracy: 0.8581 - val_loss: 0.4190 - val_accuracy: 0.9020\n",
      "Epoch 3/10\n",
      "1875/1875 [==============================] - 3s 2ms/step - loss: 0.3547 - accuracy: 0.9123 - val_loss: 0.3134 - val_accuracy: 0.9232\n",
      "Epoch 4/10\n",
      "1875/1875 [==============================] - 3s 1ms/step - loss: 0.2571 - accuracy: 0.9355 - val_loss: 0.2491 - val_accuracy: 0.9384\n",
      "Epoch 5/10\n",
      "1875/1875 [==============================] - 3s 1ms/step - loss: 0.2041 - accuracy: 0.9490 - val_loss: 0.2330 - val_accuracy: 0.9431\n",
      "Epoch 6/10\n",
      "1875/1875 [==============================] - 3s 1ms/step - loss: 0.1705 - accuracy: 0.9555 - val_loss: 0.1827 - val_accuracy: 0.9539\n",
      "Epoch 7/10\n",
      "1875/1875 [==============================] - 3s 2ms/step - loss: 0.1443 - accuracy: 0.9621 - val_loss: 0.1741 - val_accuracy: 0.9583\n",
      "Epoch 8/10\n",
      "1875/1875 [==============================] - 3s 2ms/step - loss: 0.1330 - accuracy: 0.9648 - val_loss: 0.1540 - val_accuracy: 0.9610\n",
      "Epoch 9/10\n",
      "1875/1875 [==============================] - 3s 2ms/step - loss: 0.1189 - accuracy: 0.9683 - val_loss: 0.1530 - val_accuracy: 0.9651\n",
      "Epoch 10/10\n",
      "1875/1875 [==============================] - 3s 2ms/step - loss: 0.1121 - accuracy: 0.9708 - val_loss: 0.1741 - val_accuracy: 0.9631\n",
      "Epoch 1/10\n",
      "1875/1875 [==============================] - 5s 2ms/step - loss: 0.3127 - accuracy: 0.9129 - val_loss: 0.1323 - val_accuracy: 0.9579\n",
      "Epoch 2/10\n",
      "1875/1875 [==============================] - 4s 2ms/step - loss: 0.1422 - accuracy: 0.9569 - val_loss: 0.1011 - val_accuracy: 0.9695\n",
      "Epoch 3/10\n",
      "1875/1875 [==============================] - 4s 2ms/step - loss: 0.1077 - accuracy: 0.9673 - val_loss: 0.0848 - val_accuracy: 0.9731\n",
      "Epoch 4/10\n",
      "1875/1875 [==============================] - 4s 2ms/step - loss: 0.0929 - accuracy: 0.9707 - val_loss: 0.0831 - val_accuracy: 0.9727\n",
      "Epoch 5/10\n",
      "1875/1875 [==============================] - 4s 2ms/step - loss: 0.0818 - accuracy: 0.9744 - val_loss: 0.0853 - val_accuracy: 0.9750\n",
      "Epoch 6/10\n",
      "1875/1875 [==============================] - 4s 2ms/step - loss: 0.0730 - accuracy: 0.9766 - val_loss: 0.0816 - val_accuracy: 0.9759\n",
      "Epoch 7/10\n",
      "1875/1875 [==============================] - 3s 2ms/step - loss: 0.0671 - accuracy: 0.9779 - val_loss: 0.0745 - val_accuracy: 0.9773\n",
      "Epoch 8/10\n",
      "1875/1875 [==============================] - 5s 2ms/step - loss: 0.0630 - accuracy: 0.9795 - val_loss: 0.0761 - val_accuracy: 0.9773\n",
      "Epoch 9/10\n",
      "1875/1875 [==============================] - 4s 2ms/step - loss: 0.0549 - accuracy: 0.9821 - val_loss: 0.0739 - val_accuracy: 0.9778\n",
      "Epoch 10/10\n",
      "1875/1875 [==============================] - 5s 2ms/step - loss: 0.0533 - accuracy: 0.9827 - val_loss: 0.0715 - val_accuracy: 0.9786\n"
     ]
    }
   ],
   "source": [
    "# 컴파일\n",
    "model_a.compile(loss='sparse_categorical_crossentropy', metrics='accuracy', optimizer='adam')\n",
    "model_b.compile(loss='sparse_categorical_crossentropy', metrics='accuracy', optimizer='adam')\n",
    "# 학습\n",
    "hist_a = model_a.fit(x_train, y_train, validation_data=(x_test, y_test), epochs=10)\n",
    "hist_b = model_b.fit(x_train, y_train, validation_data=(x_test, y_test), epochs=10)"
   ]
  },
  {
   "cell_type": "code",
   "execution_count": 32,
   "metadata": {},
   "outputs": [
    {
     "name": "stdout",
     "output_type": "stream",
     "text": [
      "       loss  accuracy  val_loss  val_accuracy\n",
      "0  1.490590  0.676100  0.691864        0.8118\n",
      "1  0.544237  0.858083  0.419000        0.9020\n",
      "2  0.354699  0.912333  0.313420        0.9232\n",
      "3  0.257143  0.935550  0.249124        0.9384\n",
      "4  0.204108  0.949000  0.232952        0.9431\n",
      "5  0.170465  0.955467  0.182710        0.9539\n",
      "6  0.144280  0.962067  0.174134        0.9583\n",
      "7  0.133009  0.964800  0.153957        0.9610\n",
      "8  0.118928  0.968283  0.152994        0.9651\n",
      "9  0.112073  0.970767  0.174087        0.9631\n",
      "*********************************************\n",
      "       loss  accuracy  val_loss  val_accuracy\n",
      "0  0.312653  0.912850  0.132285        0.9579\n",
      "1  0.142181  0.956883  0.101134        0.9695\n",
      "2  0.107725  0.967317  0.084828        0.9731\n",
      "3  0.092879  0.970650  0.083130        0.9727\n",
      "4  0.081754  0.974383  0.085274        0.9750\n",
      "5  0.072978  0.976567  0.081594        0.9759\n",
      "6  0.067088  0.977933  0.074510        0.9773\n",
      "7  0.063026  0.979483  0.076083        0.9773\n",
      "8  0.054943  0.982050  0.073859        0.9778\n",
      "9  0.053291  0.982750  0.071525        0.9786\n"
     ]
    }
   ],
   "source": [
    "import pandas as pd\n",
    "print(pd.DataFrame(hist_a.history))\n",
    "print('*'*45)\n",
    "print(pd.DataFrame(hist_b.history))"
   ]
  },
  {
   "cell_type": "code",
   "execution_count": null,
   "metadata": {},
   "outputs": [],
   "source": []
  }
 ],
 "metadata": {
  "colab": {
   "collapsed_sections": [],
   "name": "3.4_model_configuration.ipynb",
   "provenance": []
  },
  "kernelspec": {
   "display_name": "tf2",
   "language": "python",
   "name": "python3"
  },
  "language_info": {
   "codemirror_mode": {
    "name": "ipython",
    "version": 3
   },
   "file_extension": ".py",
   "mimetype": "text/x-python",
   "name": "python",
   "nbconvert_exporter": "python",
   "pygments_lexer": "ipython3",
   "version": "3.8.16"
  },
  "vscode": {
   "interpreter": {
    "hash": "645ecf39b749c568d5d4006fbeacede757e77bc36f68b1a673586522d8c82137"
   }
  }
 },
 "nbformat": 4,
 "nbformat_minor": 1
}
