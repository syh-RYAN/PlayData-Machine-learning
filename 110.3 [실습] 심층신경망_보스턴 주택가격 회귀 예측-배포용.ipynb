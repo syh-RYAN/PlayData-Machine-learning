{
 "cells": [
  {
   "cell_type": "code",
   "execution_count": 7,
   "metadata": {},
   "outputs": [],
   "source": [
    "import pandas as pd\n",
    "import numpy as np\n",
    "import random\n",
    "import tensorflow as tf\n",
    "from tensorflow import keras\n"
   ]
  },
  {
   "cell_type": "markdown",
   "metadata": {},
   "source": [
    "# Keras를 활용한 심층 신경망 실습 - 보스턴 주택가격 회귀 계측"
   ]
  },
  {
   "cell_type": "code",
   "execution_count": 8,
   "metadata": {},
   "outputs": [],
   "source": [
    "import warnings\n",
    "warnings.filterwarnings(action='ignore')"
   ]
  },
  {
   "cell_type": "code",
   "execution_count": 9,
   "metadata": {},
   "outputs": [],
   "source": [
    "# 랜덤 시드 고정\n",
    "SEED = 12\n",
    "random.seed(SEED)\n",
    "np.random.seed(SEED)\n",
    "tf.random.set_seed(SEED)"
   ]
  },
  {
   "cell_type": "code",
   "execution_count": 10,
   "metadata": {},
   "outputs": [],
   "source": [
    "# 데이터 수집 및 전처리\n",
    "from sklearn.datasets import fetch_openml\n",
    "\n",
    "boston = fetch_openml('boston')\n",
    "\n",
    "X = boston.data\n",
    "y = boston.target\n",
    "\n",
    "# 딥러닝 모델 성능 개선을 위한 피처 스케일링 (MinMaxScaler)\n",
    "\n",
    "from sklearn.preprocessing import MinMaxScaler\n",
    "\n",
    "scaler = MinMaxScaler()\n",
    "X_scaled = scaler.fit_transform(X)\n",
    "\n",
    "# 학습-검증 데이터셋 분할\n",
    "\n",
    "from sklearn.model_selection import train_test_split\n",
    "\n",
    "X_train , X_test , y_train, y_test = train_test_split(X_scaled,y,test_size=0.2, shuffle=True, random_state=SEED)\n"
   ]
  },
  {
   "cell_type": "code",
   "execution_count": 11,
   "metadata": {},
   "outputs": [],
   "source": [
    "# 모델 구조 구현(심층 신경망)\n",
    "from keras.models import Sequential\n",
    "from keras.layers import Dense\n",
    "\n",
    "model = Sequential()\n",
    "model.add(Dense(128,activation='relu',input_shape=(13,)))\n",
    "model.add(Dense(64, activation='relu'))\n",
    "model.add(Dense(32, activation='relu'))\n",
    "model.add(Dense(16, activation='relu'))\n",
    "model.add(Dense(1,activation='linear'))"
   ]
  },
  {
   "cell_type": "code",
   "execution_count": 12,
   "metadata": {},
   "outputs": [
    {
     "data": {
      "image/png": "[encoded data removed]",
      "text/plain": [
       "<IPython.core.display.Image object>"
      ]
     },
     "execution_count": 12,
     "metadata": {},
     "output_type": "execute_result"
    }
   ],
   "source": [
    "# 모델 구조 시각화\n",
    "\n",
    "from keras.utils import plot_model\n",
    "\n",
    "plot_model(model,show_shapes=True, show_layer_names=True)"
   ]
  },
  {
   "cell_type": "code",
   "execution_count": 13,
   "metadata": {},
   "outputs": [],
   "source": [
    "# 모델 컴파일\n",
    "\n",
    "model.compile(loss='mse',optimizer='adam',metrics='mae')"
   ]
  },
  {
   "cell_type": "code",
   "execution_count": 14,
   "metadata": {},
   "outputs": [],
   "source": [
    "# 모델 구조 요약\n"
   ]
  },
  {
   "cell_type": "code",
   "execution_count": 19,
   "metadata": {},
   "outputs": [
    {
     "name": "stdout",
     "output_type": "stream",
     "text": [
      "Epoch 1/100\n",
      "13/13 - 0s - loss: 8.7945 - mae: 2.0782 - 19ms/epoch - 1ms/step\n",
      "Epoch 2/100\n",
      "13/13 - 0s - loss: 8.5503 - mae: 2.0743 - 20ms/epoch - 2ms/step\n",
      "Epoch 3/100\n",
      "13/13 - 0s - loss: 8.9836 - mae: 2.1380 - 16ms/epoch - 1ms/step\n",
      "Epoch 4/100\n",
      "13/13 - 0s - loss: 8.8387 - mae: 2.1001 - 23ms/epoch - 2ms/step\n",
      "Epoch 5/100\n",
      "13/13 - 0s - loss: 8.3882 - mae: 2.0422 - 22ms/epoch - 2ms/step\n",
      "Epoch 6/100\n",
      "13/13 - 0s - loss: 8.6031 - mae: 2.0756 - 30ms/epoch - 2ms/step\n",
      "Epoch 7/100\n",
      "13/13 - 0s - loss: 8.2110 - mae: 2.0164 - 30ms/epoch - 2ms/step\n",
      "Epoch 8/100\n",
      "13/13 - 0s - loss: 8.2907 - mae: 2.0451 - 30ms/epoch - 2ms/step\n",
      "Epoch 9/100\n",
      "13/13 - 0s - loss: 8.8407 - mae: 2.1096 - 33ms/epoch - 3ms/step\n",
      "Epoch 10/100\n",
      "13/13 - 0s - loss: 8.3471 - mae: 2.0729 - 21ms/epoch - 2ms/step\n",
      "Epoch 11/100\n",
      "13/13 - 0s - loss: 8.6510 - mae: 2.0860 - 34ms/epoch - 3ms/step\n",
      "Epoch 12/100\n",
      "13/13 - 0s - loss: 8.7752 - mae: 2.2071 - 24ms/epoch - 2ms/step\n",
      "Epoch 13/100\n",
      "13/13 - 0s - loss: 8.3687 - mae: 2.0556 - 34ms/epoch - 3ms/step\n",
      "Epoch 14/100\n",
      "13/13 - 0s - loss: 8.3041 - mae: 2.0509 - 19ms/epoch - 1ms/step\n",
      "Epoch 15/100\n",
      "13/13 - 0s - loss: 7.9316 - mae: 2.0355 - 16ms/epoch - 1ms/step\n",
      "Epoch 16/100\n",
      "13/13 - 0s - loss: 8.1490 - mae: 2.0409 - 40ms/epoch - 3ms/step\n",
      "Epoch 17/100\n",
      "13/13 - 0s - loss: 8.0052 - mae: 2.0059 - 40ms/epoch - 3ms/step\n",
      "Epoch 18/100\n",
      "13/13 - 0s - loss: 7.9781 - mae: 2.0342 - 17ms/epoch - 1ms/step\n",
      "Epoch 19/100\n",
      "13/13 - 0s - loss: 7.4529 - mae: 1.9603 - 19ms/epoch - 1ms/step\n",
      "Epoch 20/100\n",
      "13/13 - 0s - loss: 7.5377 - mae: 1.9650 - 18ms/epoch - 1ms/step\n",
      "Epoch 21/100\n",
      "13/13 - 0s - loss: 7.5518 - mae: 1.9878 - 18ms/epoch - 1ms/step\n",
      "Epoch 22/100\n",
      "13/13 - 0s - loss: 7.4773 - mae: 1.9598 - 20ms/epoch - 2ms/step\n",
      "Epoch 23/100\n",
      "13/13 - 0s - loss: 7.5160 - mae: 1.9771 - 18ms/epoch - 1ms/step\n",
      "Epoch 24/100\n",
      "13/13 - 0s - loss: 7.1765 - mae: 1.9447 - 17ms/epoch - 1ms/step\n",
      "Epoch 25/100\n",
      "13/13 - 0s - loss: 7.3307 - mae: 1.9784 - 17ms/epoch - 1ms/step\n",
      "Epoch 26/100\n",
      "13/13 - 0s - loss: 7.6601 - mae: 2.0022 - 17ms/epoch - 1ms/step\n",
      "Epoch 27/100\n",
      "13/13 - 0s - loss: 7.3228 - mae: 1.9597 - 21ms/epoch - 2ms/step\n",
      "Epoch 28/100\n",
      "13/13 - 0s - loss: 7.2870 - mae: 1.9530 - 19ms/epoch - 1ms/step\n",
      "Epoch 29/100\n",
      "13/13 - 0s - loss: 7.1341 - mae: 1.9359 - 19ms/epoch - 1ms/step\n",
      "Epoch 30/100\n",
      "13/13 - 0s - loss: 7.0093 - mae: 1.9088 - 19ms/epoch - 1ms/step\n",
      "Epoch 31/100\n",
      "13/13 - 0s - loss: 7.4068 - mae: 1.9940 - 17ms/epoch - 1ms/step\n",
      "Epoch 32/100\n",
      "13/13 - 0s - loss: 6.8970 - mae: 1.8949 - 17ms/epoch - 1ms/step\n",
      "Epoch 33/100\n",
      "13/13 - 0s - loss: 6.9829 - mae: 1.8974 - 17ms/epoch - 1ms/step\n",
      "Epoch 34/100\n",
      "13/13 - 0s - loss: 7.0534 - mae: 1.9301 - 14ms/epoch - 1ms/step\n",
      "Epoch 35/100\n",
      "13/13 - 0s - loss: 6.9545 - mae: 1.9163 - 18ms/epoch - 1ms/step\n",
      "Epoch 36/100\n",
      "13/13 - 0s - loss: 6.8258 - mae: 1.8986 - 15ms/epoch - 1ms/step\n",
      "Epoch 37/100\n",
      "13/13 - 0s - loss: 6.7543 - mae: 1.9063 - 20ms/epoch - 2ms/step\n",
      "Epoch 38/100\n",
      "13/13 - 0s - loss: 6.8470 - mae: 1.8957 - 16ms/epoch - 1ms/step\n",
      "Epoch 39/100\n",
      "13/13 - 0s - loss: 6.7035 - mae: 1.8899 - 16ms/epoch - 1ms/step\n",
      "Epoch 40/100\n",
      "13/13 - 0s - loss: 6.5997 - mae: 1.9021 - 15ms/epoch - 1ms/step\n",
      "Epoch 41/100\n",
      "13/13 - 0s - loss: 6.6456 - mae: 1.8725 - 15ms/epoch - 1ms/step\n",
      "Epoch 42/100\n",
      "13/13 - 0s - loss: 6.5013 - mae: 1.8738 - 14ms/epoch - 1ms/step\n",
      "Epoch 43/100\n",
      "13/13 - 0s - loss: 6.7320 - mae: 1.9162 - 14ms/epoch - 1ms/step\n",
      "Epoch 44/100\n",
      "13/13 - 0s - loss: 6.4893 - mae: 1.8553 - 15ms/epoch - 1ms/step\n",
      "Epoch 45/100\n",
      "13/13 - 0s - loss: 6.3884 - mae: 1.8616 - 15ms/epoch - 1ms/step\n",
      "Epoch 46/100\n",
      "13/13 - 0s - loss: 7.1431 - mae: 1.9563 - 14ms/epoch - 1ms/step\n",
      "Epoch 47/100\n",
      "13/13 - 0s - loss: 6.3422 - mae: 1.8481 - 14ms/epoch - 1ms/step\n",
      "Epoch 48/100\n",
      "13/13 - 0s - loss: 6.2112 - mae: 1.8132 - 16ms/epoch - 1ms/step\n",
      "Epoch 49/100\n",
      "13/13 - 0s - loss: 6.1684 - mae: 1.8083 - 13ms/epoch - 1ms/step\n",
      "Epoch 50/100\n",
      "13/13 - 0s - loss: 6.4232 - mae: 1.8713 - 13ms/epoch - 1ms/step\n",
      "Epoch 51/100\n",
      "13/13 - 0s - loss: 6.7521 - mae: 1.9348 - 14ms/epoch - 1ms/step\n",
      "Epoch 52/100\n",
      "13/13 - 0s - loss: 6.2534 - mae: 1.8322 - 14ms/epoch - 1ms/step\n",
      "Epoch 53/100\n",
      "13/13 - 0s - loss: 6.2663 - mae: 1.8397 - 15ms/epoch - 1ms/step\n",
      "Epoch 54/100\n",
      "13/13 - 0s - loss: 6.0776 - mae: 1.8204 - 15ms/epoch - 1ms/step\n",
      "Epoch 55/100\n",
      "13/13 - 0s - loss: 6.0197 - mae: 1.7809 - 14ms/epoch - 1ms/step\n",
      "Epoch 56/100\n",
      "13/13 - 0s - loss: 6.1241 - mae: 1.8316 - 15ms/epoch - 1ms/step\n",
      "Epoch 57/100\n",
      "13/13 - 0s - loss: 6.0697 - mae: 1.8560 - 14ms/epoch - 1ms/step\n",
      "Epoch 58/100\n",
      "13/13 - 0s - loss: 5.9421 - mae: 1.8047 - 14ms/epoch - 1ms/step\n",
      "Epoch 59/100\n",
      "13/13 - 0s - loss: 5.9518 - mae: 1.8020 - 13ms/epoch - 1ms/step\n",
      "Epoch 60/100\n",
      "13/13 - 0s - loss: 5.8733 - mae: 1.7820 - 15ms/epoch - 1ms/step\n",
      "Epoch 61/100\n",
      "13/13 - 0s - loss: 5.6843 - mae: 1.7630 - 17ms/epoch - 1ms/step\n",
      "Epoch 62/100\n",
      "13/13 - 0s - loss: 5.6222 - mae: 1.7604 - 14ms/epoch - 1ms/step\n",
      "Epoch 63/100\n",
      "13/13 - 0s - loss: 5.9561 - mae: 1.8078 - 14ms/epoch - 1ms/step\n",
      "Epoch 64/100\n",
      "13/13 - 0s - loss: 6.1360 - mae: 1.8499 - 14ms/epoch - 1ms/step\n",
      "Epoch 65/100\n",
      "13/13 - 0s - loss: 5.6883 - mae: 1.7547 - 15ms/epoch - 1ms/step\n",
      "Epoch 66/100\n",
      "13/13 - 0s - loss: 5.7658 - mae: 1.8048 - 17ms/epoch - 1ms/step\n",
      "Epoch 67/100\n",
      "13/13 - 0s - loss: 5.6686 - mae: 1.7617 - 15ms/epoch - 1ms/step\n",
      "Epoch 68/100\n",
      "13/13 - 0s - loss: 5.7261 - mae: 1.8116 - 15ms/epoch - 1ms/step\n",
      "Epoch 69/100\n",
      "13/13 - 0s - loss: 5.4610 - mae: 1.7327 - 15ms/epoch - 1ms/step\n",
      "Epoch 70/100\n",
      "13/13 - 0s - loss: 5.4704 - mae: 1.7392 - 41ms/epoch - 3ms/step\n",
      "Epoch 71/100\n",
      "13/13 - 0s - loss: 5.5308 - mae: 1.7519 - 18ms/epoch - 1ms/step\n",
      "Epoch 72/100\n",
      "13/13 - 0s - loss: 5.4565 - mae: 1.7428 - 19ms/epoch - 1ms/step\n",
      "Epoch 73/100\n",
      "13/13 - 0s - loss: 5.5267 - mae: 1.7567 - 15ms/epoch - 1ms/step\n",
      "Epoch 74/100\n",
      "13/13 - 0s - loss: 5.4406 - mae: 1.7379 - 15ms/epoch - 1ms/step\n",
      "Epoch 75/100\n",
      "13/13 - 0s - loss: 5.5391 - mae: 1.7565 - 14ms/epoch - 1ms/step\n",
      "Epoch 76/100\n",
      "13/13 - 0s - loss: 5.4756 - mae: 1.7779 - 14ms/epoch - 1ms/step\n",
      "Epoch 77/100\n",
      "13/13 - 0s - loss: 5.6584 - mae: 1.7403 - 15ms/epoch - 1ms/step\n",
      "Epoch 78/100\n",
      "13/13 - 0s - loss: 5.7915 - mae: 1.8281 - 14ms/epoch - 1ms/step\n",
      "Epoch 79/100\n",
      "13/13 - 0s - loss: 5.4975 - mae: 1.7773 - 14ms/epoch - 1ms/step\n",
      "Epoch 80/100\n",
      "13/13 - 0s - loss: 5.8716 - mae: 1.8337 - 15ms/epoch - 1ms/step\n",
      "Epoch 81/100\n",
      "13/13 - 0s - loss: 5.8397 - mae: 1.8290 - 15ms/epoch - 1ms/step\n",
      "Epoch 82/100\n",
      "13/13 - 0s - loss: 5.5557 - mae: 1.7791 - 14ms/epoch - 1ms/step\n",
      "Epoch 83/100\n",
      "13/13 - 0s - loss: 5.1460 - mae: 1.7051 - 14ms/epoch - 1ms/step\n",
      "Epoch 84/100\n",
      "13/13 - 0s - loss: 5.2492 - mae: 1.7068 - 15ms/epoch - 1ms/step\n",
      "Epoch 85/100\n",
      "13/13 - 0s - loss: 5.2087 - mae: 1.6951 - 13ms/epoch - 1ms/step\n",
      "Epoch 86/100\n",
      "13/13 - 0s - loss: 5.2796 - mae: 1.7011 - 14ms/epoch - 1ms/step\n",
      "Epoch 87/100\n",
      "13/13 - 0s - loss: 5.3677 - mae: 1.7244 - 14ms/epoch - 1ms/step\n",
      "Epoch 88/100\n",
      "13/13 - 0s - loss: 5.2990 - mae: 1.7242 - 15ms/epoch - 1ms/step\n",
      "Epoch 89/100\n",
      "13/13 - 0s - loss: 6.0952 - mae: 1.8432 - 15ms/epoch - 1ms/step\n",
      "Epoch 90/100\n",
      "13/13 - 0s - loss: 6.3047 - mae: 1.9020 - 14ms/epoch - 1ms/step\n",
      "Epoch 91/100\n",
      "13/13 - 0s - loss: 5.3413 - mae: 1.7120 - 15ms/epoch - 1ms/step\n",
      "Epoch 92/100\n",
      "13/13 - 0s - loss: 5.0733 - mae: 1.6951 - 15ms/epoch - 1ms/step\n",
      "Epoch 93/100\n",
      "13/13 - 0s - loss: 5.2128 - mae: 1.7115 - 16ms/epoch - 1ms/step\n",
      "Epoch 94/100\n",
      "13/13 - 0s - loss: 5.0201 - mae: 1.6726 - 14ms/epoch - 1ms/step\n",
      "Epoch 95/100\n",
      "13/13 - 0s - loss: 5.0226 - mae: 1.6657 - 15ms/epoch - 1ms/step\n",
      "Epoch 96/100\n",
      "13/13 - 0s - loss: 5.2343 - mae: 1.7168 - 15ms/epoch - 1ms/step\n",
      "Epoch 97/100\n",
      "13/13 - 0s - loss: 5.2602 - mae: 1.7134 - 14ms/epoch - 1ms/step\n",
      "Epoch 98/100\n",
      "13/13 - 0s - loss: 4.9192 - mae: 1.6861 - 14ms/epoch - 1ms/step\n",
      "Epoch 99/100\n",
      "13/13 - 0s - loss: 4.7778 - mae: 1.6390 - 14ms/epoch - 1ms/step\n",
      "Epoch 100/100\n",
      "13/13 - 0s - loss: 4.8313 - mae: 1.6394 - 14ms/epoch - 1ms/step\n"
     ]
    }
   ],
   "source": [
    "# 모델 학습\n",
    "# batch size 기본값 : 32 404/32 = 13\n",
    "hist = model.fit(X_train,y_train,epochs=100,batch_size=32,verbose=2)\n"
   ]
  },
  {
   "cell_type": "code",
   "execution_count": 21,
   "metadata": {},
   "outputs": [],
   "source": [
    "# 모델 성능 평가\n",
    "df = pd.DataFrame(hist.history)"
   ]
  },
  {
   "cell_type": "code",
   "execution_count": 22,
   "metadata": {},
   "outputs": [
    {
     "ename": "AttributeError",
     "evalue": "module 'matplotlib.pyplot' has no attribute 'legned'",
     "output_type": "error",
     "traceback": [
      "\u001b[1;31m---------------------------------------------------------------------------\u001b[0m",
      "\u001b[1;31mAttributeError\u001b[0m                            Traceback (most recent call last)",
      "Cell \u001b[1;32mIn[22], line 8\u001b[0m\n\u001b[0;32m      6\u001b[0m plt\u001b[39m.\u001b[39mplot(df\u001b[39m.\u001b[39mmae, label\u001b[39m=\u001b[39m\u001b[39m'\u001b[39m\u001b[39mmae\u001b[39m\u001b[39m'\u001b[39m)\n\u001b[0;32m      7\u001b[0m plt\u001b[39m.\u001b[39mxlabel(\u001b[39m'\u001b[39m\u001b[39m# of epochs\u001b[39m\u001b[39m'\u001b[39m)\n\u001b[1;32m----> 8\u001b[0m plt\u001b[39m.\u001b[39;49mlegned()\n\u001b[0;32m      9\u001b[0m plt\u001b[39m.\u001b[39mgrid()\n",
      "\u001b[1;31mAttributeError\u001b[0m: module 'matplotlib.pyplot' has no attribute 'legned'"
     ]
    },
    {
     "data": {
      "image/png": "[encoded data removed]",
      "text/plain": [
       "<Figure size 640x480 with 1 Axes>"
      ]
     },
     "metadata": {},
     "output_type": "display_data"
    }
   ],
   "source": [
    "# 모델 학습 과정 시각화\n",
    "\n",
    "import matplotlib.pyplot as plt\n",
    "\n",
    "plt.plot(df.loss, label = 'loss')\n",
    "plt.plot(df.mae, label='mae')\n",
    "plt.xlabel('# of epochs')\n",
    "plt.legned()\n",
    "plt.grid()"
   ]
  },
  {
   "cell_type": "code",
   "execution_count": null,
   "metadata": {},
   "outputs": [],
   "source": [
    "# 훈련 데이터의 손실함수값과 검증 데이터의 손실함수값을 에포크별로 비교하여 시각화\n",
    "\n"
   ]
  },
  {
   "cell_type": "code",
   "execution_count": 23,
   "metadata": {},
   "outputs": [
    {
     "name": "stdout",
     "output_type": "stream",
     "text": [
      "4/4 [==============================] - 0s 2ms/step\n"
     ]
    },
    {
     "data": {
      "text/plain": [
       "102"
      ]
     },
     "execution_count": 23,
     "metadata": {},
     "output_type": "execute_result"
    }
   ],
   "source": [
    "y_pred = model.predict(X_test)\n",
    "len(y_pred)"
   ]
  },
  {
   "cell_type": "code",
   "execution_count": 24,
   "metadata": {},
   "outputs": [
    {
     "data": {
      "text/plain": [
       "0.8559795457870136"
      ]
     },
     "execution_count": 24,
     "metadata": {},
     "output_type": "execute_result"
    }
   ],
   "source": [
    "# r2_score로 성능 평가\n",
    "\n",
    "from sklearn.metrics import r2_score\n",
    "r2 = r2_score(y_test,y_pred)\n",
    "r2"
   ]
  },
  {
   "cell_type": "code",
   "execution_count": null,
   "metadata": {},
   "outputs": [],
   "source": [
    "# 수정해야해\n"
   ]
  }
 ],
 "metadata": {
  "kernelspec": {
   "display_name": "tf2",
   "language": "python",
   "name": "python3"
  },
  "language_info": {
   "codemirror_mode": {
    "name": "ipython",
    "version": 3
   },
   "file_extension": ".py",
   "mimetype": "text/x-python",
   "name": "python",
   "nbconvert_exporter": "python",
   "pygments_lexer": "ipython3",
   "version": "3.8.16"
  },
  "vscode": {
   "interpreter": {
    "hash": "645ecf39b749c568d5d4006fbeacede757e77bc36f68b1a673586522d8c82137"
   }
  }
 },
 "nbformat": 4,
 "nbformat_minor": 4
}
