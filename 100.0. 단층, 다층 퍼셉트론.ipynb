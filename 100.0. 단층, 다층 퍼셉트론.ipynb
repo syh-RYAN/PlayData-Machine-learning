{
 "cells": [
  {
   "cell_type": "markdown",
   "metadata": {},
   "source": [
    "# And/Or 연산을 수행하는 퍼셉트론"
   ]
  },
  {
   "cell_type": "code",
   "execution_count": 23,
   "metadata": {},
   "outputs": [],
   "source": [
    "def perceptron(x1, x2, bias):\n",
    "    result = x1*w1 + x2*w2 + bias\n",
    "    if result <= 0:\n",
    "        return 0\n",
    "    else:\n",
    "        return 1\n"
   ]
  },
  {
   "cell_type": "code",
   "execution_count": 24,
   "metadata": {},
   "outputs": [
    {
     "name": "stdout",
     "output_type": "stream",
     "text": [
      "AND Gate\n",
      "(1, 1) : 1\n",
      "(1, 0) : 1\n",
      "(0, 1) : 1\n",
      "(0, 0) : 1\n"
     ]
    }
   ],
   "source": [
    "print(\"AND Gate\")\n",
    "w1 = float(input(\"Enter the weight for x1: \"))\n",
    "w2 = float(input('Enter the weight for x2: '))\n",
    "bias = float(input(\"Enter the bias\"))\n",
    "\n",
    "for xs in [(1, 1), (1, 0), (0, 1), (0, 0)]:\n",
    "    result = perceptron(xs[0], xs[1], bias)\n",
    "    print(xs,':', result)"
   ]
  },
  {
   "cell_type": "code",
   "execution_count": 25,
   "metadata": {},
   "outputs": [
    {
     "name": "stdout",
     "output_type": "stream",
     "text": [
      "OR Gate\n",
      "(1, 1) : 1\n",
      "(1, 0) : 1\n",
      "(0, 1) : 1\n",
      "(0, 0) : 1\n"
     ]
    }
   ],
   "source": [
    "print(\"OR Gate\")\n",
    "w1 = float(input(\"Enter the weight for x1: \"))\n",
    "w2 = float(input('Enter the weight for x2: '))\n",
    "bias = float(input(\"Enter the bias\"))\n",
    "\n",
    "for xs in [(1, 1), (1, 0), (0, 1), (0, 0)]:\n",
    "    result = perceptron(xs[0], xs[1], bias)\n",
    "    print(xs,':', result)"
   ]
  },
  {
   "cell_type": "markdown",
   "metadata": {},
   "source": [
    "# 단층 퍼셉트론 연습"
   ]
  },
  {
   "cell_type": "code",
   "execution_count": 26,
   "metadata": {},
   "outputs": [],
   "source": [
    "from sklearn.datasets import load_iris\n",
    "from sklearn.linear_model import Perceptron\n",
    "from sklearn.model_selection import train_test_split\n",
    "from sklearn.metrics import accuracy_score\n",
    "\n",
    "import numpy as np \n",
    "import pandas as pd"
   ]
  },
  {
   "cell_type": "code",
   "execution_count": 27,
   "metadata": {},
   "outputs": [],
   "source": [
    "iris = load_iris()\n",
    "\n",
    "X = iris.data\n",
    "y = iris.target\n",
    "\n",
    "X_train, X_test, y_train, y_test = train_test_split(X,y,\n",
    "                                                    test_size=0.3,\n",
    "                                                    random_state=0)"
   ]
  },
  {
   "cell_type": "code",
   "execution_count": 28,
   "metadata": {},
   "outputs": [
    {
     "data": {
      "text/plain": [
       "0.8"
      ]
     },
     "execution_count": 28,
     "metadata": {},
     "output_type": "execute_result"
    }
   ],
   "source": [
    "clf = Perceptron(max_iter=1000, eta0=0.1,tol=0.001)\n",
    "clf.fit(X_train,y_train)\n",
    "y_pred = clf.predict(X_test)\n",
    "accuracy_score(y_test,y_pred)"
   ]
  },
  {
   "cell_type": "code",
   "execution_count": 29,
   "metadata": {},
   "outputs": [
    {
     "data": {
      "text/plain": [
       "array([[16,  0,  0],\n",
       "       [ 2,  9,  7],\n",
       "       [ 0,  0, 11]], dtype=int64)"
      ]
     },
     "execution_count": 29,
     "metadata": {},
     "output_type": "execute_result"
    }
   ],
   "source": [
    "from sklearn.metrics import confusion_matrix\n",
    "confusion_matrix(y_test,y_pred)"
   ]
  },
  {
   "cell_type": "markdown",
   "metadata": {},
   "source": [
    "# 다층 퍼셉트론 연습"
   ]
  },
  {
   "cell_type": "code",
   "execution_count": 30,
   "metadata": {},
   "outputs": [
    {
     "data": {
      "text/plain": [
       "'2.9.0'"
      ]
     },
     "execution_count": 30,
     "metadata": {},
     "output_type": "execute_result"
    }
   ],
   "source": [
    "import tensorflow as tf\n",
    "\n",
    "tf.__version__"
   ]
  },
  {
   "cell_type": "markdown",
   "metadata": {},
   "source": [
    "#심층 신경망"
   ]
  },
  {
   "cell_type": "code",
   "execution_count": 31,
   "metadata": {},
   "outputs": [],
   "source": [
    "#Keras 설치"
   ]
  },
  {
   "cell_type": "code",
   "execution_count": 32,
   "metadata": {},
   "outputs": [],
   "source": [
    "#!pip install --upgrade tensorflow"
   ]
  },
  {
   "cell_type": "code",
   "execution_count": 33,
   "metadata": {},
   "outputs": [],
   "source": [
    "#!pip install upgrade keras"
   ]
  },
  {
   "cell_type": "code",
   "execution_count": 34,
   "metadata": {},
   "outputs": [],
   "source": [
    "import keras"
   ]
  },
  {
   "cell_type": "code",
   "execution_count": 35,
   "metadata": {},
   "outputs": [
    {
     "data": {
      "text/plain": [
       "'2.9.0'"
      ]
     },
     "execution_count": 35,
     "metadata": {},
     "output_type": "execute_result"
    }
   ],
   "source": [
    "keras.__version__"
   ]
  },
  {
   "cell_type": "markdown",
   "metadata": {},
   "source": [
    "### [실습 1] Keras를 활용한 심층신경망 모델 구현(붓꽃 분류)"
   ]
  },
  {
   "cell_type": "code",
   "execution_count": 36,
   "metadata": {},
   "outputs": [],
   "source": [
    "#1) 데이터 전처리 및 분할\n",
    "from sklearn.datasets import load_iris\n",
    "\n",
    "iris = load_iris()\n",
    "X, y = iris.data, iris.target\n",
    "\n"
   ]
  },
  {
   "cell_type": "code",
   "execution_count": 37,
   "metadata": {},
   "outputs": [
    {
     "data": {
      "text/plain": [
       "array([0, 0, 0, 0, 0, 0, 0, 0, 0, 0, 0, 0, 0, 0, 0, 0, 0, 0, 0, 0, 0, 0,\n",
       "       0, 0, 0, 0, 0, 0, 0, 0, 0, 0, 0, 0, 0, 0, 0, 0, 0, 0, 0, 0, 0, 0,\n",
       "       0, 0, 0, 0, 0, 0, 1, 1, 1, 1, 1, 1, 1, 1, 1, 1, 1, 1, 1, 1, 1, 1,\n",
       "       1, 1, 1, 1, 1, 1, 1, 1, 1, 1, 1, 1, 1, 1, 1, 1, 1, 1, 1, 1, 1, 1,\n",
       "       1, 1, 1, 1, 1, 1, 1, 1, 1, 1, 1, 1, 2, 2, 2, 2, 2, 2, 2, 2, 2, 2,\n",
       "       2, 2, 2, 2, 2, 2, 2, 2, 2, 2, 2, 2, 2, 2, 2, 2, 2, 2, 2, 2, 2, 2,\n",
       "       2, 2, 2, 2, 2, 2, 2, 2, 2, 2, 2, 2, 2, 2, 2, 2, 2, 2])"
      ]
     },
     "execution_count": 37,
     "metadata": {},
     "output_type": "execute_result"
    }
   ],
   "source": [
    "y"
   ]
  },
  {
   "cell_type": "code",
   "execution_count": 38,
   "metadata": {},
   "outputs": [],
   "source": [
    "from tensorflow.keras.utils import to_categorical\n",
    "\n",
    "y = to_categorical(y, 3)\n",
    "\n",
    "from sklearn.model_selection import train_test_split\n",
    "\n",
    "X_train, X_test, y_train, y_test = train_test_split(X, y, test_size=0.3, random_state=0)"
   ]
  },
  {
   "cell_type": "code",
   "execution_count": 39,
   "metadata": {},
   "outputs": [],
   "source": [
    "#2) 인공 신경망 모형 구성\n",
    "from keras.models import Sequential\n",
    "from keras.layers import Dense\n",
    "\n",
    "model = Sequential()\n",
    "model.add(Dense(units=8, input_dim=4, activation='relu'))\n",
    "model.add(Dense(units=6, activation='relu'))\n",
    "model.add(Dense(units=3, activation='softmax'))"
   ]
  },
  {
   "cell_type": "code",
   "execution_count": 40,
   "metadata": {},
   "outputs": [],
   "source": [
    "# 3) 모형의 학습과정 설정\n",
    "model.compile(loss = 'categorical_crossentropy',\n",
    "              optimizer = 'adam', \n",
    "              metrics='accuracy')\n"
   ]
  },
  {
   "cell_type": "code",
   "execution_count": 41,
   "metadata": {},
   "outputs": [
    {
     "name": "stdout",
     "output_type": "stream",
     "text": [
      "Epoch 1/100\n",
      "11/11 - 0s - loss: 1.7116 - accuracy: 0.3714 - 286ms/epoch - 26ms/step\n",
      "Epoch 2/100\n",
      "11/11 - 0s - loss: 1.5269 - accuracy: 0.3714 - 9ms/epoch - 861us/step\n",
      "Epoch 3/100\n",
      "11/11 - 0s - loss: 1.3611 - accuracy: 0.3714 - 10ms/epoch - 893us/step\n",
      "Epoch 4/100\n",
      "11/11 - 0s - loss: 1.1918 - accuracy: 0.3714 - 10ms/epoch - 910us/step\n",
      "Epoch 5/100\n",
      "11/11 - 0s - loss: 1.0759 - accuracy: 0.4190 - 9ms/epoch - 780us/step\n",
      "Epoch 6/100\n",
      "11/11 - 0s - loss: 0.9805 - accuracy: 0.4571 - 9ms/epoch - 818us/step\n",
      "Epoch 7/100\n",
      "11/11 - 0s - loss: 0.9001 - accuracy: 0.4667 - 12ms/epoch - 1ms/step\n",
      "Epoch 8/100\n",
      "11/11 - 0s - loss: 0.8300 - accuracy: 0.4571 - 9ms/epoch - 815us/step\n",
      "Epoch 9/100\n",
      "11/11 - 0s - loss: 0.7742 - accuracy: 0.4381 - 8ms/epoch - 730us/step\n",
      "Epoch 10/100\n",
      "11/11 - 0s - loss: 0.7311 - accuracy: 0.4762 - 10ms/epoch - 889us/step\n",
      "Epoch 11/100\n",
      "11/11 - 0s - loss: 0.6938 - accuracy: 0.5714 - 8ms/epoch - 700us/step\n",
      "Epoch 12/100\n",
      "11/11 - 0s - loss: 0.6663 - accuracy: 0.7429 - 9ms/epoch - 818us/step\n",
      "Epoch 13/100\n",
      "11/11 - 0s - loss: 0.6453 - accuracy: 0.7524 - 7ms/epoch - 650us/step\n",
      "Epoch 14/100\n",
      "11/11 - 0s - loss: 0.6286 - accuracy: 0.7619 - 6ms/epoch - 581us/step\n",
      "Epoch 15/100\n",
      "11/11 - 0s - loss: 0.6148 - accuracy: 0.7524 - 17ms/epoch - 2ms/step\n",
      "Epoch 16/100\n",
      "11/11 - 0s - loss: 0.6040 - accuracy: 0.7524 - 10ms/epoch - 870us/step\n",
      "Epoch 17/100\n",
      "11/11 - 0s - loss: 0.5929 - accuracy: 0.7524 - 9ms/epoch - 806us/step\n",
      "Epoch 18/100\n",
      "11/11 - 0s - loss: 0.5831 - accuracy: 0.7524 - 10ms/epoch - 878us/step\n",
      "Epoch 19/100\n",
      "11/11 - 0s - loss: 0.5731 - accuracy: 0.7619 - 10ms/epoch - 910us/step\n",
      "Epoch 20/100\n",
      "11/11 - 0s - loss: 0.5640 - accuracy: 0.7619 - 9ms/epoch - 818us/step\n",
      "Epoch 21/100\n",
      "11/11 - 0s - loss: 0.5556 - accuracy: 0.7619 - 11ms/epoch - 1ms/step\n",
      "Epoch 22/100\n",
      "11/11 - 0s - loss: 0.5473 - accuracy: 0.7619 - 9ms/epoch - 847us/step\n",
      "Epoch 23/100\n",
      "11/11 - 0s - loss: 0.5389 - accuracy: 0.7619 - 10ms/epoch - 910us/step\n",
      "Epoch 24/100\n",
      "11/11 - 0s - loss: 0.5320 - accuracy: 0.7619 - 10ms/epoch - 867us/step\n",
      "Epoch 25/100\n",
      "11/11 - 0s - loss: 0.5237 - accuracy: 0.7619 - 9ms/epoch - 790us/step\n",
      "Epoch 26/100\n",
      "11/11 - 0s - loss: 0.5170 - accuracy: 0.7619 - 9ms/epoch - 802us/step\n",
      "Epoch 27/100\n",
      "11/11 - 0s - loss: 0.5094 - accuracy: 0.7619 - 10ms/epoch - 893us/step\n",
      "Epoch 28/100\n",
      "11/11 - 0s - loss: 0.5022 - accuracy: 0.7810 - 11ms/epoch - 1000us/step\n",
      "Epoch 29/100\n",
      "11/11 - 0s - loss: 0.4954 - accuracy: 0.8190 - 10ms/epoch - 909us/step\n",
      "Epoch 30/100\n",
      "11/11 - 0s - loss: 0.4879 - accuracy: 0.8190 - 9ms/epoch - 818us/step\n",
      "Epoch 31/100\n",
      "11/11 - 0s - loss: 0.4839 - accuracy: 0.7619 - 11ms/epoch - 1ms/step\n",
      "Epoch 32/100\n",
      "11/11 - 0s - loss: 0.4764 - accuracy: 0.7619 - 11ms/epoch - 1000us/step\n",
      "Epoch 33/100\n",
      "11/11 - 0s - loss: 0.4723 - accuracy: 0.8095 - 12ms/epoch - 1ms/step\n",
      "Epoch 34/100\n",
      "11/11 - 0s - loss: 0.4637 - accuracy: 0.8190 - 11ms/epoch - 1000us/step\n",
      "Epoch 35/100\n",
      "11/11 - 0s - loss: 0.4588 - accuracy: 0.8190 - 9ms/epoch - 821us/step\n",
      "Epoch 36/100\n",
      "11/11 - 0s - loss: 0.4529 - accuracy: 0.8381 - 15ms/epoch - 1ms/step\n",
      "Epoch 37/100\n",
      "11/11 - 0s - loss: 0.4473 - accuracy: 0.8667 - 12ms/epoch - 1ms/step\n",
      "Epoch 38/100\n",
      "11/11 - 0s - loss: 0.4426 - accuracy: 0.8381 - 12ms/epoch - 1ms/step\n",
      "Epoch 39/100\n",
      "11/11 - 0s - loss: 0.4368 - accuracy: 0.8476 - 12ms/epoch - 1ms/step\n",
      "Epoch 40/100\n",
      "11/11 - 0s - loss: 0.4327 - accuracy: 0.8762 - 5ms/epoch - 455us/step\n",
      "Epoch 41/100\n",
      "11/11 - 0s - loss: 0.4281 - accuracy: 0.8857 - 11ms/epoch - 1ms/step\n",
      "Epoch 42/100\n",
      "11/11 - 0s - loss: 0.4227 - accuracy: 0.8762 - 10ms/epoch - 884us/step\n",
      "Epoch 43/100\n",
      "11/11 - 0s - loss: 0.4178 - accuracy: 0.8952 - 9ms/epoch - 819us/step\n",
      "Epoch 44/100\n",
      "11/11 - 0s - loss: 0.4135 - accuracy: 0.8952 - 8ms/epoch - 727us/step\n",
      "Epoch 45/100\n",
      "11/11 - 0s - loss: 0.4088 - accuracy: 0.9143 - 9ms/epoch - 819us/step\n",
      "Epoch 46/100\n",
      "11/11 - 0s - loss: 0.4055 - accuracy: 0.9048 - 8ms/epoch - 767us/step\n",
      "Epoch 47/100\n",
      "11/11 - 0s - loss: 0.4005 - accuracy: 0.9238 - 8ms/epoch - 727us/step\n",
      "Epoch 48/100\n",
      "11/11 - 0s - loss: 0.3962 - accuracy: 0.9333 - 8ms/epoch - 759us/step\n",
      "Epoch 49/100\n",
      "11/11 - 0s - loss: 0.3912 - accuracy: 0.9238 - 9ms/epoch - 823us/step\n",
      "Epoch 50/100\n",
      "11/11 - 0s - loss: 0.3872 - accuracy: 0.9143 - 7ms/epoch - 637us/step\n",
      "Epoch 51/100\n",
      "11/11 - 0s - loss: 0.3832 - accuracy: 0.9143 - 6ms/epoch - 547us/step\n",
      "Epoch 52/100\n",
      "11/11 - 0s - loss: 0.3795 - accuracy: 0.9238 - 16ms/epoch - 1ms/step\n",
      "Epoch 53/100\n",
      "11/11 - 0s - loss: 0.3755 - accuracy: 0.9333 - 8ms/epoch - 727us/step\n",
      "Epoch 54/100\n",
      "11/11 - 0s - loss: 0.3730 - accuracy: 0.9048 - 9ms/epoch - 818us/step\n",
      "Epoch 55/100\n",
      "11/11 - 0s - loss: 0.3680 - accuracy: 0.9143 - 10ms/epoch - 910us/step\n",
      "Epoch 56/100\n",
      "11/11 - 0s - loss: 0.3638 - accuracy: 0.9333 - 8ms/epoch - 721us/step\n",
      "Epoch 57/100\n",
      "11/11 - 0s - loss: 0.3607 - accuracy: 0.9524 - 8ms/epoch - 743us/step\n",
      "Epoch 58/100\n",
      "11/11 - 0s - loss: 0.3573 - accuracy: 0.9238 - 10ms/epoch - 907us/step\n",
      "Epoch 59/100\n",
      "11/11 - 0s - loss: 0.3529 - accuracy: 0.9524 - 9ms/epoch - 819us/step\n",
      "Epoch 60/100\n",
      "11/11 - 0s - loss: 0.3498 - accuracy: 0.9524 - 10ms/epoch - 909us/step\n",
      "Epoch 61/100\n",
      "11/11 - 0s - loss: 0.3468 - accuracy: 0.9524 - 11ms/epoch - 956us/step\n",
      "Epoch 62/100\n",
      "11/11 - 0s - loss: 0.3429 - accuracy: 0.9524 - 11ms/epoch - 1ms/step\n",
      "Epoch 63/100\n",
      "11/11 - 0s - loss: 0.3394 - accuracy: 0.9429 - 11ms/epoch - 1ms/step\n",
      "Epoch 64/100\n",
      "11/11 - 0s - loss: 0.3355 - accuracy: 0.9524 - 10ms/epoch - 864us/step\n",
      "Epoch 65/100\n",
      "11/11 - 0s - loss: 0.3325 - accuracy: 0.9524 - 11ms/epoch - 1ms/step\n",
      "Epoch 66/100\n",
      "11/11 - 0s - loss: 0.3299 - accuracy: 0.9524 - 48ms/epoch - 4ms/step\n",
      "Epoch 67/100\n",
      "11/11 - 0s - loss: 0.3258 - accuracy: 0.9524 - 13ms/epoch - 1ms/step\n",
      "Epoch 68/100\n",
      "11/11 - 0s - loss: 0.3219 - accuracy: 0.9524 - 11ms/epoch - 957us/step\n",
      "Epoch 69/100\n",
      "11/11 - 0s - loss: 0.3191 - accuracy: 0.9429 - 9ms/epoch - 774us/step\n",
      "Epoch 70/100\n",
      "11/11 - 0s - loss: 0.3163 - accuracy: 0.9429 - 8ms/epoch - 727us/step\n",
      "Epoch 71/100\n",
      "11/11 - 0s - loss: 0.3146 - accuracy: 0.9524 - 8ms/epoch - 736us/step\n",
      "Epoch 72/100\n",
      "11/11 - 0s - loss: 0.3099 - accuracy: 0.9429 - 8ms/epoch - 727us/step\n",
      "Epoch 73/100\n",
      "11/11 - 0s - loss: 0.3071 - accuracy: 0.9524 - 8ms/epoch - 727us/step\n",
      "Epoch 74/100\n",
      "11/11 - 0s - loss: 0.3019 - accuracy: 0.9524 - 8ms/epoch - 772us/step\n",
      "Epoch 75/100\n",
      "11/11 - 0s - loss: 0.3001 - accuracy: 0.9524 - 8ms/epoch - 720us/step\n",
      "Epoch 76/100\n",
      "11/11 - 0s - loss: 0.2968 - accuracy: 0.9524 - 8ms/epoch - 742us/step\n",
      "Epoch 77/100\n",
      "11/11 - 0s - loss: 0.2933 - accuracy: 0.9524 - 8ms/epoch - 728us/step\n",
      "Epoch 78/100\n",
      "11/11 - 0s - loss: 0.2907 - accuracy: 0.9524 - 9ms/epoch - 815us/step\n",
      "Epoch 79/100\n",
      "11/11 - 0s - loss: 0.2876 - accuracy: 0.9524 - 9ms/epoch - 774us/step\n",
      "Epoch 80/100\n",
      "11/11 - 0s - loss: 0.2856 - accuracy: 0.9524 - 9ms/epoch - 818us/step\n",
      "Epoch 81/100\n",
      "11/11 - 0s - loss: 0.2813 - accuracy: 0.9524 - 7ms/epoch - 674us/step\n",
      "Epoch 82/100\n",
      "11/11 - 0s - loss: 0.2777 - accuracy: 0.9619 - 8ms/epoch - 725us/step\n",
      "Epoch 83/100\n",
      "11/11 - 0s - loss: 0.2751 - accuracy: 0.9524 - 7ms/epoch - 653us/step\n",
      "Epoch 84/100\n",
      "11/11 - 0s - loss: 0.2726 - accuracy: 0.9524 - 8ms/epoch - 727us/step\n",
      "Epoch 85/100\n",
      "11/11 - 0s - loss: 0.2695 - accuracy: 0.9619 - 8ms/epoch - 728us/step\n",
      "Epoch 86/100\n",
      "11/11 - 0s - loss: 0.2665 - accuracy: 0.9619 - 7ms/epoch - 642us/step\n",
      "Epoch 87/100\n",
      "11/11 - 0s - loss: 0.2632 - accuracy: 0.9619 - 8ms/epoch - 740us/step\n",
      "Epoch 88/100\n",
      "11/11 - 0s - loss: 0.2626 - accuracy: 0.9524 - 8ms/epoch - 690us/step\n",
      "Epoch 89/100\n",
      "11/11 - 0s - loss: 0.2600 - accuracy: 0.9619 - 9ms/epoch - 818us/step\n",
      "Epoch 90/100\n",
      "11/11 - 0s - loss: 0.2557 - accuracy: 0.9619 - 11ms/epoch - 1ms/step\n",
      "Epoch 91/100\n",
      "11/11 - 0s - loss: 0.2524 - accuracy: 0.9619 - 9ms/epoch - 818us/step\n",
      "Epoch 92/100\n",
      "11/11 - 0s - loss: 0.2512 - accuracy: 0.9619 - 11ms/epoch - 1ms/step\n",
      "Epoch 93/100\n",
      "11/11 - 0s - loss: 0.2478 - accuracy: 0.9524 - 9ms/epoch - 818us/step\n",
      "Epoch 94/100\n",
      "11/11 - 0s - loss: 0.2448 - accuracy: 0.9619 - 9ms/epoch - 818us/step\n",
      "Epoch 95/100\n",
      "11/11 - 0s - loss: 0.2428 - accuracy: 0.9619 - 11ms/epoch - 1000us/step\n",
      "Epoch 96/100\n",
      "11/11 - 0s - loss: 0.2390 - accuracy: 0.9619 - 11ms/epoch - 999us/step\n",
      "Epoch 97/100\n",
      "11/11 - 0s - loss: 0.2373 - accuracy: 0.9619 - 10ms/epoch - 908us/step\n",
      "Epoch 98/100\n",
      "11/11 - 0s - loss: 0.2365 - accuracy: 0.9619 - 13ms/epoch - 1ms/step\n",
      "Epoch 99/100\n",
      "11/11 - 0s - loss: 0.2317 - accuracy: 0.9619 - 13ms/epoch - 1ms/step\n",
      "Epoch 100/100\n",
      "11/11 - 0s - loss: 0.2324 - accuracy: 0.9714 - 11ms/epoch - 1ms/step\n"
     ]
    }
   ],
   "source": [
    "# 4)모델 학습\n",
    "hist = model.fit(X_train,y_train,epochs=100,batch_size=10,\n",
    "          verbose=2)"
   ]
  },
  {
   "cell_type": "code",
   "execution_count": 42,
   "metadata": {},
   "outputs": [
    {
     "data": {
      "text/html": [
       "<div>\n",
       "<style scoped>\n",
       "    .dataframe tbody tr th:only-of-type {\n",
       "        vertical-align: middle;\n",
       "    }\n",
       "\n",
       "    .dataframe tbody tr th {\n",
       "        vertical-align: top;\n",
       "    }\n",
       "\n",
       "    .dataframe thead th {\n",
       "        text-align: right;\n",
       "    }\n",
       "</style>\n",
       "<table border=\"1\" class=\"dataframe\">\n",
       "  <thead>\n",
       "    <tr style=\"text-align: right;\">\n",
       "      <th></th>\n",
       "      <th>loss</th>\n",
       "      <th>accuracy</th>\n",
       "    </tr>\n",
       "  </thead>\n",
       "  <tbody>\n",
       "    <tr>\n",
       "      <th>0</th>\n",
       "      <td>1.711643</td>\n",
       "      <td>0.371429</td>\n",
       "    </tr>\n",
       "    <tr>\n",
       "      <th>1</th>\n",
       "      <td>1.526940</td>\n",
       "      <td>0.371429</td>\n",
       "    </tr>\n",
       "    <tr>\n",
       "      <th>2</th>\n",
       "      <td>1.361104</td>\n",
       "      <td>0.371429</td>\n",
       "    </tr>\n",
       "    <tr>\n",
       "      <th>3</th>\n",
       "      <td>1.191835</td>\n",
       "      <td>0.371429</td>\n",
       "    </tr>\n",
       "    <tr>\n",
       "      <th>4</th>\n",
       "      <td>1.075853</td>\n",
       "      <td>0.419048</td>\n",
       "    </tr>\n",
       "    <tr>\n",
       "      <th>...</th>\n",
       "      <td>...</td>\n",
       "      <td>...</td>\n",
       "    </tr>\n",
       "    <tr>\n",
       "      <th>95</th>\n",
       "      <td>0.238974</td>\n",
       "      <td>0.961905</td>\n",
       "    </tr>\n",
       "    <tr>\n",
       "      <th>96</th>\n",
       "      <td>0.237349</td>\n",
       "      <td>0.961905</td>\n",
       "    </tr>\n",
       "    <tr>\n",
       "      <th>97</th>\n",
       "      <td>0.236497</td>\n",
       "      <td>0.961905</td>\n",
       "    </tr>\n",
       "    <tr>\n",
       "      <th>98</th>\n",
       "      <td>0.231701</td>\n",
       "      <td>0.961905</td>\n",
       "    </tr>\n",
       "    <tr>\n",
       "      <th>99</th>\n",
       "      <td>0.232407</td>\n",
       "      <td>0.971429</td>\n",
       "    </tr>\n",
       "  </tbody>\n",
       "</table>\n",
       "<p>100 rows × 2 columns</p>\n",
       "</div>"
      ],
      "text/plain": [
       "        loss  accuracy\n",
       "0   1.711643  0.371429\n",
       "1   1.526940  0.371429\n",
       "2   1.361104  0.371429\n",
       "3   1.191835  0.371429\n",
       "4   1.075853  0.419048\n",
       "..       ...       ...\n",
       "95  0.238974  0.961905\n",
       "96  0.237349  0.961905\n",
       "97  0.236497  0.961905\n",
       "98  0.231701  0.961905\n",
       "99  0.232407  0.971429\n",
       "\n",
       "[100 rows x 2 columns]"
      ]
     },
     "execution_count": 42,
     "metadata": {},
     "output_type": "execute_result"
    }
   ],
   "source": [
    "# epoch별 손실함수 값, 평가지표 시각화\n",
    "pd.DataFrame(hist.history)"
   ]
  },
  {
   "cell_type": "code",
   "execution_count": 43,
   "metadata": {},
   "outputs": [
    {
     "data": {
      "image/png": "[encoded data removed]",
      "text/plain": [
       "<Figure size 500x500 with 1 Axes>"
      ]
     },
     "metadata": {},
     "output_type": "display_data"
    }
   ],
   "source": [
    "import matplotlib.pyplot as plt\n",
    "\n",
    "plt.figure(figsize=(5, 5))\n",
    "plt.plot(range(1, 101), hist.history['loss'], label='loss')\n",
    "plt.plot(range(1, 101), hist.history['accuracy'], label='accuracy')\n",
    "plt.xlabel('epoch')\n",
    "plt.legend()\n",
    "plt.show()"
   ]
  },
  {
   "cell_type": "code",
   "execution_count": 46,
   "metadata": {},
   "outputs": [
    {
     "name": "stdout",
     "output_type": "stream",
     "text": [
      "2/2 [==============================] - 0s 1ms/step - loss: 0.2430 - accuracy: 0.9778\n",
      "loss=0.243\n",
      "accuracy = 0.978\n"
     ]
    }
   ],
   "source": [
    "# 5) 모형의 성능평가\n",
    "loss, acc = model.evaluate(X_test,y_test)\n",
    "print(f\"loss={loss:.3f}\")\n",
    "print(f\"accuracy = {acc:.3f}\")\n"
   ]
  },
  {
   "cell_type": "code",
   "execution_count": 48,
   "metadata": {},
   "outputs": [],
   "source": [
    "np.set_printoptions(suppress=True)"
   ]
  },
  {
   "cell_type": "code",
   "execution_count": 56,
   "metadata": {},
   "outputs": [
    {
     "name": "stdout",
     "output_type": "stream",
     "text": [
      "2/2 [==============================] - 0s 2ms/step\n"
     ]
    },
    {
     "data": {
      "text/plain": [
       "array([[0.0000947 , 0.11762462, 0.88228065],\n",
       "       [0.01848586, 0.65637034, 0.32514375],\n",
       "       [0.9838727 , 0.01612373, 0.00000357],\n",
       "       [0.00006751, 0.14758894, 0.8523435 ],\n",
       "       [0.9717291 , 0.02825068, 0.00002017],\n",
       "       [0.00003934, 0.1131347 , 0.8868259 ],\n",
       "       [0.9705747 , 0.02940281, 0.00002251],\n",
       "       [0.00974661, 0.71024   , 0.2800133 ],\n",
       "       [0.00533919, 0.5930068 , 0.401654  ],\n",
       "       [0.0301985 , 0.77648443, 0.19331706],\n",
       "       [0.0005607 , 0.28350836, 0.7159309 ],\n",
       "       [0.01717901, 0.7784543 , 0.20436664],\n",
       "       [0.01117054, 0.69401515, 0.29481432],\n",
       "       [0.00600091, 0.59000283, 0.40399626],\n",
       "       [0.00825961, 0.65511954, 0.33662078],\n",
       "       [0.9772807 , 0.02270857, 0.00001077],\n",
       "       [0.00925163, 0.6548334 , 0.335915  ],\n",
       "       [0.01272511, 0.6606591 , 0.32661584],\n",
       "       [0.95769453, 0.0422421 , 0.0000634 ],\n",
       "       [0.9751831 , 0.02480494, 0.00001193],\n",
       "       [0.00065571, 0.26746798, 0.7318764 ],\n",
       "       [0.01162245, 0.6939423 , 0.2944352 ],\n",
       "       [0.95941997, 0.04054445, 0.0000356 ],\n",
       "       [0.9583313 , 0.04160099, 0.00006769],\n",
       "       [0.00160842, 0.38672668, 0.61166495],\n",
       "       [0.97368354, 0.02629984, 0.0000166 ],\n",
       "       [0.96672606, 0.0332557 , 0.00001819],\n",
       "       [0.02183146, 0.7679916 , 0.21017696],\n",
       "       [0.07731453, 0.7665917 , 0.15609378],\n",
       "       [0.96146137, 0.03850197, 0.00003663],\n",
       "       [0.00081807, 0.3683397 , 0.6308422 ],\n",
       "       [0.01167192, 0.69130564, 0.2970225 ],\n",
       "       [0.9743783 , 0.02560644, 0.0000152 ],\n",
       "       [0.00225902, 0.46396294, 0.53377813],\n",
       "       [0.00005905, 0.10923687, 0.89070404],\n",
       "       [0.02373267, 0.71785116, 0.25841612],\n",
       "       [0.97648346, 0.02350725, 0.00000925],\n",
       "       [0.00119444, 0.35470948, 0.6440962 ],\n",
       "       [0.01977742, 0.7519237 , 0.22829886],\n",
       "       [0.02607745, 0.7387025 , 0.23522006],\n",
       "       [0.00021461, 0.2081787 , 0.7916067 ],\n",
       "       [0.96776   , 0.03220637, 0.00003363],\n",
       "       [0.00037286, 0.24991089, 0.7497162 ],\n",
       "       [0.95146376, 0.04848064, 0.00005561],\n",
       "       [0.9781215 , 0.0218689 , 0.00000953]], dtype=float32)"
      ]
     },
     "execution_count": 56,
     "metadata": {},
     "output_type": "execute_result"
    }
   ],
   "source": [
    "y_pred = model.predict(X_test)\n",
    "y_pred"
   ]
  },
  {
   "cell_type": "code",
   "execution_count": 57,
   "metadata": {},
   "outputs": [
    {
     "data": {
      "text/plain": [
       "array([2, 1, 0, 2, 0, 2, 0, 1, 1, 1, 2, 1, 1, 1, 1, 0, 1, 1, 0, 0, 2, 1,\n",
       "       0, 0, 2, 0, 0, 1, 1, 0, 2, 1, 0, 2, 2, 1, 0, 2, 1, 1, 2, 0, 2, 0,\n",
       "       0], dtype=int64)"
      ]
     },
     "execution_count": 57,
     "metadata": {},
     "output_type": "execute_result"
    }
   ],
   "source": [
    "# 클래스 이름을 알기위한 추가 코딩이 필요\n",
    "y_pred_class = np.argmax(y_pred, axis=-1)\n",
    "y_pred_class"
   ]
  },
  {
   "cell_type": "code",
   "execution_count": 58,
   "metadata": {},
   "outputs": [],
   "source": [
    "y_test_class = np.argmax(y_test, axis=-1)"
   ]
  },
  {
   "cell_type": "code",
   "execution_count": 61,
   "metadata": {},
   "outputs": [
    {
     "data": {
      "text/plain": [
       "0.9777777777777777"
      ]
     },
     "execution_count": 61,
     "metadata": {},
     "output_type": "execute_result"
    }
   ],
   "source": [
    "accuracy_score(y_test_class,y_pred_class)"
   ]
  },
  {
   "cell_type": "code",
   "execution_count": 45,
   "metadata": {},
   "outputs": [],
   "source": [
    "#6)  임의 데이터에 대해 모형의 출력을 확인한다.\n",
    "\n"
   ]
  }
 ],
 "metadata": {
  "kernelspec": {
   "display_name": "tf2",
   "language": "python",
   "name": "python3"
  },
  "language_info": {
   "codemirror_mode": {
    "name": "ipython",
    "version": 3
   },
   "file_extension": ".py",
   "mimetype": "text/x-python",
   "name": "python",
   "nbconvert_exporter": "python",
   "pygments_lexer": "ipython3",
   "version": "3.8.16"
  },
  "vscode": {
   "interpreter": {
    "hash": "645ecf39b749c568d5d4006fbeacede757e77bc36f68b1a673586522d8c82137"
   }
  }
 },
 "nbformat": 4,
 "nbformat_minor": 4
}
